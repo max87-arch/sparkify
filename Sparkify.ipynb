{
 "cells": [
  {
   "cell_type": "markdown",
   "metadata": {},
   "source": [
    "# Sparkify Project"
   ]
  },
  {
   "cell_type": "markdown",
   "metadata": {},
   "source": [
    "This project has the purpose of predicting the churn rate of Sparkify's service. In particular, it's significant to understand if a user will leave the service.
     The dataset contains the action logs of each user, and it exists in two versions. The first is the full dataset of 12GB present only on AWS. The other is smaller, and it has a size of 232MB.\n",
    "The mandatory requirement of this project is the use of SPARK."
   ]
  },
  {
   "cell_type": "code",
   "execution_count": 1,
   "metadata": {},
   "outputs": [
    {
     "data": {
      "application/vnd.jupyter.widget-view+json": {
       "model_id": "f09b8b3a62ba4ddbbee39db8f6ebf2cf",
       "version_major": 2,
       "version_minor": 0
      },
      "text/plain": [
       "VBox()"
      ]
     },
     "metadata": {},
     "output_type": "display_data"
    },
    {
     "name": "stdout",
     "output_type": "stream",
     "text": [
      "Starting Spark application\n"
     ]
    },
    {
     "data": {
      "text/html": [
       "<table>\n",
       "<tr><th>ID</th><th>YARN Application ID</th><th>Kind</th><th>State</th><th>Spark UI</th><th>Driver log</th><th>Current session?</th></tr><tr><td>14</td><td>application_1598337564684_0015</td><td>pyspark</td><td>idle</td><td><a target=\"_blank\" href=\"http://ip-172-31-43-131.eu-central-1.compute.internal:20888/proxy/application_1598337564684_0015/\">Link</a></td><td><a target=\"_blank\" href=\"http://ip-172-31-33-216.eu-central-1.compute.internal:8042/node/containerlogs/container_1598337564684_0015_01_000001/livy\">Link</a></td><td>✔</td></tr></table>"
      ],
      "text/plain": [
       "<IPython.core.display.HTML object>"
      ]
     },
     "metadata": {},
     "output_type": "display_data"
    },
    {
     "data": {
      "application/vnd.jupyter.widget-view+json": {
       "model_id": "",
       "version_major": 2,
       "version_minor": 0
      },
      "text/plain": [
       "FloatProgress(value=0.0, bar_style='info', description='Progress:', layout=Layout(height='25px', width='50%'),…"
      ]
     },
     "metadata": {},
     "output_type": "display_data"
    },
    {
     "name": "stdout",
     "output_type": "stream",
     "text": [
      "SparkSession available as 'spark'.\n"
     ]
    },
    {
     "data": {
      "application/vnd.jupyter.widget-view+json": {
       "model_id": "",
       "version_major": 2,
       "version_minor": 0
      },
      "text/plain": [
       "FloatProgress(value=0.0, bar_style='info', description='Progress:', layout=Layout(height='25px', width='50%'),…"
      ]
     },
     "metadata": {},
     "output_type": "display_data"
    },
    {
     "name": "stdout",
     "output_type": "stream",
     "text": [
      "Package                    Version\n",
      "-------------------------- -------\n",
      "beautifulsoup4             4.9.0  \n",
      "boto                       2.49.0 \n",
      "jmespath                   0.9.5  \n",
      "lxml                       4.5.0  \n",
      "mysqlclient                1.4.2  \n",
      "nltk                       3.4.5  \n",
      "nose                       1.3.4  \n",
      "numpy                      1.16.5 \n",
      "pip                        9.0.1  \n",
      "py-dateutil                2.2    \n",
      "python37-sagemaker-pyspark 1.3.0  \n",
      "pytz                       2019.3 \n",
      "PyYAML                     5.3.1  \n",
      "setuptools                 28.8.0 \n",
      "six                        1.13.0 \n",
      "soupsieve                  1.9.5  \n",
      "wheel                      0.29.0 \n",
      "windmill                   1.6"
     ]
    }
   ],
   "source": [
    "sc.list_packages() #Check installed packages"
   ]
  },
  {
   "cell_type": "code",
   "execution_count": 2,
   "metadata": {},
   "outputs": [
    {
     "data": {
      "application/vnd.jupyter.widget-view+json": {
       "model_id": "df67a7cc77cb4ea5958e4f2c90319a92",
       "version_major": 2,
       "version_minor": 0
      },
      "text/plain": [
       "VBox()"
      ]
     },
     "metadata": {},
     "output_type": "display_data"
    },
    {
     "data": {
      "application/vnd.jupyter.widget-view+json": {
       "model_id": "",
       "version_major": 2,
       "version_minor": 0
      },
      "text/plain": [
       "FloatProgress(value=0.0, bar_style='info', description='Progress:', layout=Layout(height='25px', width='50%'),…"
      ]
     },
     "metadata": {},
     "output_type": "display_data"
    },
    {
     "name": "stdout",
     "output_type": "stream",
     "text": [
      "'6G'"
     ]
    }
   ],
   "source": [
    "sc.getConf().get('spark.driver.memory') #Check memory allocated from driver"
   ]
  },
  {
   "cell_type": "code",
   "execution_count": null,
   "metadata": {},
   "outputs": [],
   "source": []
  },
  {
   "cell_type": "code",
   "execution_count": 3,
   "metadata": {},
   "outputs": [
    {
     "data": {
      "application/vnd.jupyter.widget-view+json": {
       "model_id": "8ef88b92a5a24a14afd3f7160e53f416",
       "version_major": 2,
       "version_minor": 0
      },
      "text/plain": [
       "VBox()"
      ]
     },
     "metadata": {},
     "output_type": "display_data"
    },
    {
     "data": {
      "application/vnd.jupyter.widget-view+json": {
       "model_id": "",
       "version_major": 2,
       "version_minor": 0
      },
      "text/plain": [
       "FloatProgress(value=0.0, bar_style='info', description='Progress:', layout=Layout(height='25px', width='50%'),…"
      ]
     },
     "metadata": {},
     "output_type": "display_data"
    },
    {
     "name": "stdout",
     "output_type": "stream",
     "text": [
      "Collecting matplotlib\n",
      "  Using cached https://files.pythonhosted.org/packages/f1/b9/712584f12f840968a14969a1fe298ffdeaa9c4b484b3bfd973c74c4a481d/matplotlib-3.3.1-cp37-cp37m-manylinux1_x86_64.whl\n",
      "Collecting certifi>=2020.06.20 (from matplotlib)\n",
      "  Using cached https://files.pythonhosted.org/packages/5e/c4/6c4fe722df5343c33226f0b4e0bb042e4dc13483228b4718baf286f86d87/certifi-2020.6.20-py2.py3-none-any.whl\n",
      "Requirement already satisfied: numpy>=1.15 in /usr/local/lib64/python3.7/site-packages (from matplotlib)\n",
      "Collecting python-dateutil>=2.1 (from matplotlib)\n",
      "  Using cached https://files.pythonhosted.org/packages/d4/70/d60450c3dd48ef87586924207ae8907090de0b306af2bce5d134d78615cb/python_dateutil-2.8.1-py2.py3-none-any.whl\n",
      "Collecting pyparsing!=2.0.4,!=2.1.2,!=2.1.6,>=2.0.3 (from matplotlib)\n",
      "  Using cached https://files.pythonhosted.org/packages/8a/bb/488841f56197b13700afd5658fc279a2025a39e22449b7cf29864669b15d/pyparsing-2.4.7-py2.py3-none-any.whl\n",
      "Collecting pillow>=6.2.0 (from matplotlib)\n",
      "  Using cached https://files.pythonhosted.org/packages/e8/f2/6722dd0c22e3a143ac792ccb2424924ac72af4adea756b1165b4cad50da7/Pillow-7.2.0-cp37-cp37m-manylinux1_x86_64.whl\n",
      "Collecting cycler>=0.10 (from matplotlib)\n",
      "  Using cached https://files.pythonhosted.org/packages/f7/d2/e07d3ebb2bd7af696440ce7e754c59dd546ffe1bbe732c8ab68b9c834e61/cycler-0.10.0-py2.py3-none-any.whl\n",
      "Collecting kiwisolver>=1.0.1 (from matplotlib)\n",
      "  Using cached https://files.pythonhosted.org/packages/31/b9/6202dcae729998a0ade30e80ac00f616542ef445b088ec970d407dfd41c0/kiwisolver-1.2.0-cp37-cp37m-manylinux1_x86_64.whl\n",
      "Requirement already satisfied: six>=1.5 in /usr/local/lib/python3.7/site-packages (from python-dateutil>=2.1->matplotlib)\n",
      "Installing collected packages: certifi, python-dateutil, pyparsing, pillow, cycler, kiwisolver, matplotlib\n",
      "Successfully installed certifi-2020.6.20 cycler-0.10.0 kiwisolver-1.2.0 matplotlib-3.3.1 pillow-7.2.0 pyparsing-2.4.7 python-dateutil-2.8.1\n",
      "\n",
      "Collecting seaborn\n",
      "  Using cached https://files.pythonhosted.org/packages/c7/e6/54aaaafd0b87f51dfba92ba73da94151aa3bc179e5fe88fc5dfb3038e860/seaborn-0.10.1-py3-none-any.whl\n",
      "Collecting pandas>=0.22.0 (from seaborn)\n",
      "  Using cached https://files.pythonhosted.org/packages/61/ed/10112535645ad7afd26c3b9defd20a32d9e42340b19c4f73ff26ccad06ee/pandas-1.1.1-cp37-cp37m-manylinux1_x86_64.whl\n",
      "Requirement already satisfied: numpy>=1.13.3 in /usr/local/lib64/python3.7/site-packages (from seaborn)\n",
      "Collecting scipy>=1.0.1 (from seaborn)\n",
      "  Using cached https://files.pythonhosted.org/packages/65/f9/f7a7e5009711579c72da2725174825e5056741bf4001815d097eef1b2e17/scipy-1.5.2-cp37-cp37m-manylinux1_x86_64.whl\n",
      "Requirement already satisfied: matplotlib>=2.1.2 in /mnt/tmp/1598373994642-0/lib/python3.7/site-packages (from seaborn)\n",
      "Requirement already satisfied: pytz>=2017.2 in /usr/local/lib/python3.7/site-packages (from pandas>=0.22.0->seaborn)\n",
      "Requirement already satisfied: python-dateutil>=2.7.3 in /mnt/tmp/1598373994642-0/lib/python3.7/site-packages (from pandas>=0.22.0->seaborn)\n",
      "Requirement already satisfied: certifi>=2020.06.20 in /mnt/tmp/1598373994642-0/lib/python3.7/site-packages (from matplotlib>=2.1.2->seaborn)\n",
      "Requirement already satisfied: pyparsing!=2.0.4,!=2.1.2,!=2.1.6,>=2.0.3 in /mnt/tmp/1598373994642-0/lib/python3.7/site-packages (from matplotlib>=2.1.2->seaborn)\n",
      "Requirement already satisfied: pillow>=6.2.0 in /mnt/tmp/1598373994642-0/lib/python3.7/site-packages (from matplotlib>=2.1.2->seaborn)\n",
      "Requirement already satisfied: cycler>=0.10 in /mnt/tmp/1598373994642-0/lib/python3.7/site-packages (from matplotlib>=2.1.2->seaborn)\n",
      "Requirement already satisfied: kiwisolver>=1.0.1 in /mnt/tmp/1598373994642-0/lib/python3.7/site-packages (from matplotlib>=2.1.2->seaborn)\n",
      "Requirement already satisfied: six>=1.5 in /usr/local/lib/python3.7/site-packages (from python-dateutil>=2.7.3->pandas>=0.22.0->seaborn)\n",
      "Installing collected packages: pandas, scipy, seaborn\n",
      "Successfully installed pandas-1.1.1 scipy-1.5.2 seaborn-0.10.1\n",
      "\n",
      "Collecting handyspark\n",
      "  Using cached https://files.pythonhosted.org/packages/87/8a/2ff2c58c219a680f5cbe8a2ed2eb20bc5126a587c47896339f927934a7c3/handyspark-0.2.2a1-py2.py3-none-any.whl\n",
      "Collecting findspark (from handyspark)\n",
      "  Using cached https://files.pythonhosted.org/packages/fc/2d/2e39f9a023479ea798eed4351cd66f163ce61e00c717e03c37109f00c0f2/findspark-1.4.2-py2.py3-none-any.whl\n",
      "Requirement already satisfied: pandas in /mnt/tmp/1598373994642-0/lib/python3.7/site-packages (from handyspark)\n",
      "Collecting scikit-learn (from handyspark)\n",
      "  Using cached https://files.pythonhosted.org/packages/f4/cb/64623369f348e9bfb29ff898a57ac7c91ed4921f228e9726546614d63ccb/scikit_learn-0.23.2-cp37-cp37m-manylinux1_x86_64.whl\n",
      "Collecting pyarrow (from handyspark)\n",
      "  Using cached https://files.pythonhosted.org/packages/ba/64/1f2b55c2ae98bf6643c8be24426fccea6d3ee840d67ba7c299394e427fff/pyarrow-1.0.1-cp37-cp37m-manylinux1_x86_64.whl\n",
      "Requirement already satisfied: scipy in /mnt/tmp/1598373994642-0/lib/python3.7/site-packages (from handyspark)\n",
      "Collecting pyspark (from handyspark)\n",
      "Requirement already satisfied: numpy in /usr/local/lib64/python3.7/site-packages (from handyspark)\n",
      "Requirement already satisfied: seaborn in /mnt/tmp/1598373994642-0/lib/python3.7/site-packages (from handyspark)\n",
      "Requirement already satisfied: matplotlib in /mnt/tmp/1598373994642-0/lib/python3.7/site-packages (from handyspark)\n",
      "Requirement already satisfied: pytz>=2017.2 in /usr/local/lib/python3.7/site-packages (from pandas->handyspark)\n",
      "Requirement already satisfied: python-dateutil>=2.7.3 in /mnt/tmp/1598373994642-0/lib/python3.7/site-packages (from pandas->handyspark)\n",
      "Collecting joblib>=0.11 (from scikit-learn->handyspark)\n",
      "  Using cached https://files.pythonhosted.org/packages/51/dd/0e015051b4a27ec5a58b02ab774059f3289a94b0906f880a3f9507e74f38/joblib-0.16.0-py3-none-any.whl\n",
      "Collecting threadpoolctl>=2.0.0 (from scikit-learn->handyspark)\n",
      "  Using cached https://files.pythonhosted.org/packages/f7/12/ec3f2e203afa394a149911729357aa48affc59c20e2c1c8297a60f33f133/threadpoolctl-2.1.0-py3-none-any.whl\n",
      "Collecting py4j==0.10.9 (from pyspark->handyspark)\n",
      "  Using cached https://files.pythonhosted.org/packages/9e/b6/6a4fb90cd235dc8e265a6a2067f2a2c99f0d91787f06aca4bcf7c23f3f80/py4j-0.10.9-py2.py3-none-any.whl\n",
      "Requirement already satisfied: certifi>=2020.06.20 in /mnt/tmp/1598373994642-0/lib/python3.7/site-packages (from matplotlib->handyspark)\n",
      "Requirement already satisfied: pyparsing!=2.0.4,!=2.1.2,!=2.1.6,>=2.0.3 in /mnt/tmp/1598373994642-0/lib/python3.7/site-packages (from matplotlib->handyspark)\n",
      "Requirement already satisfied: pillow>=6.2.0 in /mnt/tmp/1598373994642-0/lib/python3.7/site-packages (from matplotlib->handyspark)\n",
      "Requirement already satisfied: cycler>=0.10 in /mnt/tmp/1598373994642-0/lib/python3.7/site-packages (from matplotlib->handyspark)\n",
      "Requirement already satisfied: kiwisolver>=1.0.1 in /mnt/tmp/1598373994642-0/lib/python3.7/site-packages (from matplotlib->handyspark)\n",
      "Requirement already satisfied: six>=1.5 in /usr/local/lib/python3.7/site-packages (from python-dateutil>=2.7.3->pandas->handyspark)\n",
      "Installing collected packages: findspark, joblib, threadpoolctl, scikit-learn, pyarrow, py4j, pyspark, handyspark\n",
      "Successfully installed findspark-1.4.2 handyspark-0.2.2a1 joblib-0.16.0 py4j-0.10.9 pyarrow-1.0.1 pyspark-3.0.0 scikit-learn-0.23.2 threadpoolctl-2.1.0\n",
      "\n",
      "Collecting user_agents\n",
      "  Using cached https://files.pythonhosted.org/packages/8f/1c/20bb3d7b2bad56d881e3704131ddedbb16eb787101306887dff349064662/user_agents-2.2.0-py3-none-any.whl\n",
      "Collecting ua-parser>=0.10.0 (from user_agents)\n",
      "  Using cached https://files.pythonhosted.org/packages/9d/22/4d16b08db329fd440eed366d35e4dd7195c9babb4ecac5218f28081522a2/ua_parser-0.10.0-py2.py3-none-any.whl\n",
      "Installing collected packages: ua-parser, user-agents\n",
      "Successfully installed ua-parser-0.10.0 user-agents-2.2.0\n",
      "\n",
      "Collecting pyspark2pmml\n",
      "Requirement already satisfied: py4j in /mnt/tmp/1598373994642-0/lib/python3.7/site-packages (from pyspark2pmml)\n",
      "Installing collected packages: pyspark2pmml\n",
      "Successfully installed pyspark2pmml-0.5.1"
     ]
    }
   ],
   "source": [
    "#Install the dependecies. Remember to install them at each restart of kernel\n",
    "sc.install_pypi_package('matplotlib')\n",
    "sc.install_pypi_package('seaborn')\n",
    "sc.install_pypi_package('handyspark')\n",
    "sc.install_pypi_package('user_agents')\n",
    "sc.install_pypi_package('pyspark2pmml')"
   ]
  },
  {
   "cell_type": "code",
   "execution_count": 4,
   "metadata": {},
   "outputs": [
    {
     "data": {
      "application/vnd.jupyter.widget-view+json": {
       "model_id": "d17ae48b65e74d5e8c3567a796cfa050",
       "version_major": 2,
       "version_minor": 0
      },
      "text/plain": [
       "VBox()"
      ]
     },
     "metadata": {},
     "output_type": "display_data"
    },
    {
     "data": {
      "application/vnd.jupyter.widget-view+json": {
       "model_id": "",
       "version_major": 2,
       "version_minor": 0
      },
      "text/plain": [
       "FloatProgress(value=0.0, bar_style='info', description='Progress:', layout=Layout(height='25px', width='50%'),…"
      ]
     },
     "metadata": {},
     "output_type": "display_data"
    }
   ],
   "source": [
    "from pyspark.sql import SparkSession, Window\n",
    "import matplotlib.pyplot as plt\n",
    "import seaborn as sb\n",
    "import handyspark\n",
    "from pyspark.mllib.stat import Statistics\n",
    "from pyspark.ml.feature import  VectorAssembler\n",
    "from pyspark.ml import Pipeline\n",
    "from pyspark.sql.types import StringType, FloatType\n",
    "from pyspark.sql.functions import udf\n",
    "from pyspark.ml.classification import LogisticRegression, NaiveBayes, RandomForestClassifier\n",
    "from pyspark.ml.tuning import ParamGridBuilder, CrossValidator\n",
    "from pyspark.ml.regression import GeneralizedLinearRegression\n",
    "from pyspark.ml.evaluation import BinaryClassificationEvaluator, MulticlassClassificationEvaluator\n",
    "import pyspark.sql.functions as func\n",
    "import numpy as np\n",
    "from pyspark2pmml import PMMLBuilder\n",
    "from user_agents import parse\n"
   ]
  },
  {
   "cell_type": "code",
   "execution_count": 5,
   "metadata": {},
   "outputs": [
    {
     "data": {
      "application/vnd.jupyter.widget-view+json": {
       "model_id": "4108533f37844544914c6e9cb5074e70",
       "version_major": 2,
       "version_minor": 0
      },
      "text/plain": [
       "VBox()"
      ]
     },
     "metadata": {},
     "output_type": "display_data"
    },
    {
     "data": {
      "application/vnd.jupyter.widget-view+json": {
       "model_id": "",
       "version_major": 2,
       "version_minor": 0
      },
      "text/plain": [
       "FloatProgress(value=0.0, bar_style='info', description='Progress:', layout=Layout(height='25px', width='50%'),…"
      ]
     },
     "metadata": {},
     "output_type": "display_data"
    }
   ],
   "source": [
    "#Launch spark session\n",
    "#Please remember to download JAR at https://github.com/jpmml/pyspark2pmml#configuration-and-usage and\n",
    "#upload in the master node in /home/hadoops/extrajars/\n",
    "\n",
    "lib = 'jpmml-sparkml-executable-1.5.8.jar' #This java library is mandatory to export the model in PMML format\n",
    "\n",
    "spark = SparkSession.builder. \\\n",
    "    config('spark.jars',lib).appName(\"Sparkify detect Cancellation\").getOrCreate()"
   ]
  },
  {
   "cell_type": "markdown",
   "metadata": {},
   "source": [
    "## Data understanding"
   ]
  },
  {
   "cell_type": "code",
   "execution_count": 6,
   "metadata": {},
   "outputs": [
    {
     "data": {
      "application/vnd.jupyter.widget-view+json": {
       "model_id": "62b9719e34bb4a16bc6dcf17eb62fc2c",
       "version_major": 2,
       "version_minor": 0
      },
      "text/plain": [
       "VBox()"
      ]
     },
     "metadata": {},
     "output_type": "display_data"
    },
    {
     "data": {
      "application/vnd.jupyter.widget-view+json": {
       "model_id": "",
       "version_major": 2,
       "version_minor": 0
      },
      "text/plain": [
       "FloatProgress(value=0.0, bar_style='info', description='Progress:', layout=Layout(height='25px', width='50%'),…"
      ]
     },
     "metadata": {},
     "output_type": "display_data"
    }
   ],
   "source": [
    "event ='s3n://udacity-dsnd/sparkify/sparkify_event_data.json'\n",
    "#event ='s3n://udacity-dsnd/sparkify/mini_sparkify_event_data.json' # A small dataset to use only for test\n",
    "df = spark.read.json(event) #read the data"
   ]
  },
  {
   "cell_type": "code",
   "execution_count": 7,
   "metadata": {},
   "outputs": [
    {
     "data": {
      "application/vnd.jupyter.widget-view+json": {
       "model_id": "a003c74f285e4243b962a09a44e9e98f",
       "version_major": 2,
       "version_minor": 0
      },
      "text/plain": [
       "VBox()"
      ]
     },
     "metadata": {},
     "output_type": "display_data"
    },
    {
     "data": {
      "application/vnd.jupyter.widget-view+json": {
       "model_id": "",
       "version_major": 2,
       "version_minor": 0
      },
      "text/plain": [
       "FloatProgress(value=0.0, bar_style='info', description='Progress:', layout=Layout(height='25px', width='50%'),…"
      ]
     },
     "metadata": {},
     "output_type": "display_data"
    },
    {
     "name": "stdout",
     "output_type": "stream",
     "text": [
      "[('artist', 'string'), ('auth', 'string'), ('firstName', 'string'), ('gender', 'string'), ('itemInSession', 'bigint'), ('lastName', 'string'), ('length', 'double'), ('level', 'string'), ('location', 'string'), ('method', 'string'), ('page', 'string'), ('registration', 'bigint'), ('sessionId', 'bigint'), ('song', 'string'), ('status', 'bigint'), ('ts', 'bigint'), ('userAgent', 'string'), ('userId', 'string')]"
     ]
    }
   ],
   "source": [
    "df.dtypes #show the data types of each column"
   ]
  },
  {
   "cell_type": "code",
   "execution_count": 8,
   "metadata": {},
   "outputs": [
    {
     "data": {
      "application/vnd.jupyter.widget-view+json": {
       "model_id": "2f2d37cc5c69411e9e04493185f9ef41",
       "version_major": 2,
       "version_minor": 0
      },
      "text/plain": [
       "VBox()"
      ]
     },
     "metadata": {},
     "output_type": "display_data"
    },
    {
     "data": {
      "application/vnd.jupyter.widget-view+json": {
       "model_id": "",
       "version_major": 2,
       "version_minor": 0
      },
      "text/plain": [
       "FloatProgress(value=0.0, bar_style='info', description='Progress:', layout=Layout(height='25px', width='50%'),…"
      ]
     },
     "metadata": {},
     "output_type": "display_data"
    }
   ],
   "source": [
    "handyDf = df.toHandy() #Convert to Handy DataFrame"
   ]
  },
  {
   "cell_type": "code",
   "execution_count": 9,
   "metadata": {},
   "outputs": [
    {
     "data": {
      "application/vnd.jupyter.widget-view+json": {
       "model_id": "6b9700961067486cbea84f9fa63fb745",
       "version_major": 2,
       "version_minor": 0
      },
      "text/plain": [
       "VBox()"
      ]
     },
     "metadata": {},
     "output_type": "display_data"
    },
    {
     "data": {
      "application/vnd.jupyter.widget-view+json": {
       "model_id": "",
       "version_major": 2,
       "version_minor": 0
      },
      "text/plain": [
       "FloatProgress(value=0.0, bar_style='info', description='Progress:', layout=Layout(height='25px', width='50%'),…"
      ]
     },
     "metadata": {},
     "output_type": "display_data"
    },
    {
     "name": "stdout",
     "output_type": "stream",
     "text": [
      "Row(artist='Popol Vuh', auth='Logged In', firstName='Shlok', gender='M', itemInSession=278, lastName='Johnson', length=524.32934, level='paid', location='Dallas-Fort Worth-Arlington, TX', method='PUT', page='NextSong', registration=1533734541000, sessionId=22683, song='Ich mache einen Spiegel - Dream Part 4', status=200, ts=1538352001000, userAgent='\"Mozilla/5.0 (Windows NT 6.1; WOW64) AppleWebKit/537.36 (KHTML, like Gecko) Chrome/36.0.1985.143 Safari/537.36\"', userId='1749042')"
     ]
    }
   ],
   "source": [
    "df.head()"
   ]
  },
  {
   "cell_type": "code",
   "execution_count": 10,
   "metadata": {},
   "outputs": [
    {
     "data": {
      "application/vnd.jupyter.widget-view+json": {
       "model_id": "acbd3ae0339a4e798cc1cc9ae980e74e",
       "version_major": 2,
       "version_minor": 0
      },
      "text/plain": [
       "VBox()"
      ]
     },
     "metadata": {},
     "output_type": "display_data"
    },
    {
     "data": {
      "application/vnd.jupyter.widget-view+json": {
       "model_id": "",
       "version_major": 2,
       "version_minor": 0
      },
      "text/plain": [
       "FloatProgress(value=0.0, bar_style='info', description='Progress:', layout=Layout(height='25px', width='50%'),…"
      ]
     },
     "metadata": {},
     "output_type": "display_data"
    },
    {
     "name": "stdout",
     "output_type": "stream",
     "text": [
      "  summary  ...              userId\n",
      "0   count  ...            26259199\n",
      "1    mean  ...  1488379.8347142653\n",
      "2  stddev  ...  286970.08894623973\n",
      "3     min  ...             1000025\n",
      "4     max  ...             1999996\n",
      "\n",
      "[5 rows x 19 columns]"
     ]
    }
   ],
   "source": [
    "df.describe().toPandas()"
   ]
  },
  {
   "cell_type": "code",
   "execution_count": 11,
   "metadata": {},
   "outputs": [
    {
     "data": {
      "application/vnd.jupyter.widget-view+json": {
       "model_id": "df1aebcdb0474c009efa52c0dd7ef7b7",
       "version_major": 2,
       "version_minor": 0
      },
      "text/plain": [
       "VBox()"
      ]
     },
     "metadata": {},
     "output_type": "display_data"
    },
    {
     "data": {
      "application/vnd.jupyter.widget-view+json": {
       "model_id": "",
       "version_major": 2,
       "version_minor": 0
      },
      "text/plain": [
       "FloatProgress(value=0.0, bar_style='info', description='Progress:', layout=Layout(height='25px', width='50%'),…"
      ]
     },
     "metadata": {},
     "output_type": "display_data"
    },
    {
     "name": "stdout",
     "output_type": "stream",
     "text": [
      "artist           5408927\n",
      "auth                   0\n",
      "firstName         778479\n",
      "gender            778479\n",
      "itemInSession          0\n",
      "lastName          778479\n",
      "length           5408927\n",
      "level                  0\n",
      "location          778479\n",
      "method                 0\n",
      "page                   0\n",
      "registration      778479\n",
      "sessionId              0\n",
      "song             5408927\n",
      "status                 0\n",
      "ts                     0\n",
      "userAgent         778479\n",
      "userId                 0\n",
      "Name: missing, dtype: int64"
     ]
    }
   ],
   "source": [
    "handyDf.isnull() #Find NA values"
   ]
  },
  {
   "cell_type": "markdown",
   "metadata": {},
   "source": [
    "The columns firstName, gender, lastName, registration, and userAgent have the same of NA values. It leads us to conjecture that NAs are in the same rows."
   ]
  },
  {
   "cell_type": "code",
   "execution_count": 12,
   "metadata": {},
   "outputs": [
    {
     "data": {
      "application/vnd.jupyter.widget-view+json": {
       "model_id": "32aeca9c94a94e5c8954fa3e280affbc",
       "version_major": 2,
       "version_minor": 0
      },
      "text/plain": [
       "VBox()"
      ]
     },
     "metadata": {},
     "output_type": "display_data"
    },
    {
     "data": {
      "application/vnd.jupyter.widget-view+json": {
       "model_id": "",
       "version_major": 2,
       "version_minor": 0
      },
      "text/plain": [
       "FloatProgress(value=0.0, bar_style='info', description='Progress:', layout=Layout(height='25px', width='50%'),…"
      ]
     },
     "metadata": {},
     "output_type": "display_data"
    },
    {
     "name": "stdout",
     "output_type": "stream",
     "text": [
      "artist           4630448\n",
      "auth                   0\n",
      "firstName              0\n",
      "gender                 0\n",
      "itemInSession          0\n",
      "lastName               0\n",
      "length           4630448\n",
      "level                  0\n",
      "location               0\n",
      "method                 0\n",
      "page                   0\n",
      "registration           0\n",
      "sessionId              0\n",
      "song             4630448\n",
      "status                 0\n",
      "ts                     0\n",
      "userAgent              0\n",
      "userId                 0\n",
      "Name: missing, dtype: int64"
     ]
    }
   ],
   "source": [
    "handyDf.dropna(subset=['registration']).isnull()"
   ]
  },
  {
   "cell_type": "markdown",
   "metadata": {},
   "source": [
    "Dropping rows with the NA values in the registration column, we observe there aren't NAs in the other related columns "
   ]
  },
  {
   "cell_type": "code",
   "execution_count": 13,
   "metadata": {},
   "outputs": [
    {
     "data": {
      "application/vnd.jupyter.widget-view+json": {
       "model_id": "c57b6b5f526e4a19b711e55fbe23da92",
       "version_major": 2,
       "version_minor": 0
      },
      "text/plain": [
       "VBox()"
      ]
     },
     "metadata": {},
     "output_type": "display_data"
    },
    {
     "data": {
      "application/vnd.jupyter.widget-view+json": {
       "model_id": "",
       "version_major": 2,
       "version_minor": 0
      },
      "text/plain": [
       "FloatProgress(value=0.0, bar_style='info', description='Progress:', layout=Layout(height='25px', width='50%'),…"
      ]
     },
     "metadata": {},
     "output_type": "display_data"
    },
    {
     "name": "stdout",
     "output_type": "stream",
     "text": [
      "22278"
     ]
    }
   ],
   "source": [
    "df.select('userId').dropDuplicates().count() #number of users"
   ]
  },
  {
   "cell_type": "code",
   "execution_count": 14,
   "metadata": {},
   "outputs": [
    {
     "data": {
      "application/vnd.jupyter.widget-view+json": {
       "model_id": "f06d3ebd332f4d8786698b7917bd37a2",
       "version_major": 2,
       "version_minor": 0
      },
      "text/plain": [
       "VBox()"
      ]
     },
     "metadata": {},
     "output_type": "display_data"
    },
    {
     "data": {
      "application/vnd.jupyter.widget-view+json": {
       "model_id": "",
       "version_major": 2,
       "version_minor": 0
      },
      "text/plain": [
       "FloatProgress(value=0.0, bar_style='info', description='Progress:', layout=Layout(height='25px', width='50%'),…"
      ]
     },
     "metadata": {},
     "output_type": "display_data"
    },
    {
     "name": "stdout",
     "output_type": "stream",
     "text": [
      "[Row(level='free'), Row(level='paid')]"
     ]
    }
   ],
   "source": [
    "df.select('level').dropDuplicates().collect() #the levels "
   ]
  },
  {
   "cell_type": "code",
   "execution_count": 15,
   "metadata": {},
   "outputs": [
    {
     "data": {
      "application/vnd.jupyter.widget-view+json": {
       "model_id": "dbdef5c2208c49f08912c249b2fe5522",
       "version_major": 2,
       "version_minor": 0
      },
      "text/plain": [
       "VBox()"
      ]
     },
     "metadata": {},
     "output_type": "display_data"
    },
    {
     "data": {
      "application/vnd.jupyter.widget-view+json": {
       "model_id": "",
       "version_major": 2,
       "version_minor": 0
      },
      "text/plain": [
       "FloatProgress(value=0.0, bar_style='info', description='Progress:', layout=Layout(height='25px', width='50%'),…"
      ]
     },
     "metadata": {},
     "output_type": "display_data"
    },
    {
     "name": "stdout",
     "output_type": "stream",
     "text": [
      "[Row(status=200), Row(status=404), Row(status=307)]"
     ]
    }
   ],
   "source": [
    "df.select('status').dropDuplicates().collect() #HTTP code response"
   ]
  },
  {
   "cell_type": "code",
   "execution_count": 16,
   "metadata": {},
   "outputs": [
    {
     "data": {
      "application/vnd.jupyter.widget-view+json": {
       "model_id": "b674fff022b944da8c5850f4e0d755cb",
       "version_major": 2,
       "version_minor": 0
      },
      "text/plain": [
       "VBox()"
      ]
     },
     "metadata": {},
     "output_type": "display_data"
    },
    {
     "data": {
      "application/vnd.jupyter.widget-view+json": {
       "model_id": "",
       "version_major": 2,
       "version_minor": 0
      },
      "text/plain": [
       "FloatProgress(value=0.0, bar_style='info', description='Progress:', layout=Layout(height='25px', width='50%'),…"
      ]
     },
     "metadata": {},
     "output_type": "display_data"
    },
    {
     "name": "stdout",
     "output_type": "stream",
     "text": [
      "[Row(page='Downgrade'), Row(page='Save Settings'), Row(page='Error'), Row(page='Add to Playlist'), Row(page='Help'), Row(page='Submit Upgrade'), Row(page='Cancel'), Row(page='Submit Downgrade'), Row(page='Thumbs Down'), Row(page='Home'), Row(page='Roll Advert'), Row(page='About'), Row(page='Upgrade'), Row(page='Cancellation Confirmation'), Row(page='Submit Registration'), Row(page='Login'), Row(page='Register'), Row(page='NextSong'), Row(page='Thumbs Up'), Row(page='Logout'), Row(page='Settings'), Row(page='Add Friend')]"
     ]
    }
   ],
   "source": [
    "df.select('page').dropDuplicates().collect() #The page that user can navigate"
   ]
  },
  {
   "cell_type": "markdown",
   "metadata": {},
   "source": [
    "Between these pages, there are two that are more important the Cancel and the Submit Cancellation pages. The first is the page to begin the procedure to leave the service. The second is the submit of cancellation. We can define the churn ratio as the number of users that navigate on the page Submit Cancellation over the number of users.\n",
    "We call \"churn user\" the users that leave the service."
   ]
  },
  {
   "cell_type": "code",
   "execution_count": 17,
   "metadata": {},
   "outputs": [
    {
     "data": {
      "application/vnd.jupyter.widget-view+json": {
       "model_id": "6b6db1344ba44cd5a822cddb1b1116b2",
       "version_major": 2,
       "version_minor": 0
      },
      "text/plain": [
       "VBox()"
      ]
     },
     "metadata": {},
     "output_type": "display_data"
    },
    {
     "data": {
      "application/vnd.jupyter.widget-view+json": {
       "model_id": "",
       "version_major": 2,
       "version_minor": 0
      },
      "text/plain": [
       "FloatProgress(value=0.0, bar_style='info', description='Progress:', layout=Layout(height='25px', width='50%'),…"
      ]
     },
     "metadata": {},
     "output_type": "display_data"
    },
    {
     "name": "stdout",
     "output_type": "stream",
     "text": [
      "86"
     ]
    }
   ],
   "source": [
    "df.select('userAgent').dropDuplicates().count() #The number of user agent"
   ]
  },
  {
   "cell_type": "code",
   "execution_count": 18,
   "metadata": {},
   "outputs": [
    {
     "data": {
      "application/vnd.jupyter.widget-view+json": {
       "model_id": "9b4665a6ac2147039b0b07e4f06e6715",
       "version_major": 2,
       "version_minor": 0
      },
      "text/plain": [
       "VBox()"
      ]
     },
     "metadata": {},
     "output_type": "display_data"
    },
    {
     "data": {
      "application/vnd.jupyter.widget-view+json": {
       "model_id": "",
       "version_major": 2,
       "version_minor": 0
      },
      "text/plain": [
       "FloatProgress(value=0.0, bar_style='info', description='Progress:', layout=Layout(height='25px', width='50%'),…"
      ]
     },
     "metadata": {},
     "output_type": "display_data"
    },
    {
     "name": "stdout",
     "output_type": "stream",
     "text": [
      "5003"
     ]
    }
   ],
   "source": [
    "df.select('userId').filter(df.page == 'Cancellation Confirmation').dropDuplicates().count() #Number of churn user"
   ]
  },
  {
   "cell_type": "markdown",
   "metadata": {},
   "source": [
    "Now we investigate what user does before leaving the service. In particular we observe the actions in the last year."
   ]
  },
  {
   "cell_type": "code",
   "execution_count": 19,
   "metadata": {},
   "outputs": [
    {
     "data": {
      "application/vnd.jupyter.widget-view+json": {
       "model_id": "a2c97e7ee2c3409fb7f4b96a9b6dd6a3",
       "version_major": 2,
       "version_minor": 0
      },
      "text/plain": [
       "VBox()"
      ]
     },
     "metadata": {},
     "output_type": "display_data"
    },
    {
     "data": {
      "application/vnd.jupyter.widget-view+json": {
       "model_id": "",
       "version_major": 2,
       "version_minor": 0
      },
      "text/plain": [
       "FloatProgress(value=0.0, bar_style='info', description='Progress:', layout=Layout(height='25px', width='50%'),…"
      ]
     },
     "metadata": {},
     "output_type": "display_data"
    }
   ],
   "source": [
    "df.createOrReplaceTempView('events') "
   ]
  },
  {
   "cell_type": "code",
   "execution_count": 20,
   "metadata": {},
   "outputs": [
    {
     "data": {
      "application/vnd.jupyter.widget-view+json": {
       "model_id": "e53a36adf7414c54833fab7f47e3b085",
       "version_major": 2,
       "version_minor": 0
      },
      "text/plain": [
       "VBox()"
      ]
     },
     "metadata": {},
     "output_type": "display_data"
    },
    {
     "data": {
      "application/vnd.jupyter.widget-view+json": {
       "model_id": "",
       "version_major": 2,
       "version_minor": 0
      },
      "text/plain": [
       "FloatProgress(value=0.0, bar_style='info', description='Progress:', layout=Layout(height='25px', width='50%'),…"
      ]
     },
     "metadata": {},
     "output_type": "display_data"
    }
   ],
   "source": [
    "action_churn_users_last_year = spark.sql('SELECT *, \\\n",
    "          (SELECT (from_unixtime(max(e2.ts) DIV 1000)) FROM events as e2 \\\n",
    "          WHERE e2.userId = e.userId AND page = \\'Cancellation Confirmation\\') as churn, \\\n",
    "          from_unixtime(e.ts DIV 1000) as ev_date, \\\n",
    "          from_unixtime(e.registration DIV 1000) as reg_date \\\n",
    "          FROM events as e \\\n",
    "          WHERE from_unixtime(ts DIV 1000) > \\\n",
    "          (SELECT date_sub(from_unixtime(max(e2.ts) DIV 1000), 365) FROM events as e2 \\\n",
    "          WHERE e2.userId = e.userId AND page = \\'Cancellation Confirmation\\')')"
   ]
  },
  {
   "cell_type": "code",
   "execution_count": 21,
   "metadata": {},
   "outputs": [
    {
     "data": {
      "application/vnd.jupyter.widget-view+json": {
       "model_id": "739efa40ad50459691d1d6a9ee98e341",
       "version_major": 2,
       "version_minor": 0
      },
      "text/plain": [
       "VBox()"
      ]
     },
     "metadata": {},
     "output_type": "display_data"
    },
    {
     "data": {
      "application/vnd.jupyter.widget-view+json": {
       "model_id": "",
       "version_major": 2,
       "version_minor": 0
      },
      "text/plain": [
       "FloatProgress(value=0.0, bar_style='info', description='Progress:', layout=Layout(height='25px', width='50%'),…"
      ]
     },
     "metadata": {},
     "output_type": "display_data"
    },
    {
     "name": "stdout",
     "output_type": "stream",
     "text": [
      "5003"
     ]
    }
   ],
   "source": [
    "action_churn_users_last_year.select('userId').dropDuplicates().count() #The number of churn users"
   ]
  },
  {
   "cell_type": "code",
   "execution_count": 22,
   "metadata": {},
   "outputs": [
    {
     "data": {
      "application/vnd.jupyter.widget-view+json": {
       "model_id": "36e404a3a5324fa88d136ceb065c7176",
       "version_major": 2,
       "version_minor": 0
      },
      "text/plain": [
       "VBox()"
      ]
     },
     "metadata": {},
     "output_type": "display_data"
    },
    {
     "data": {
      "application/vnd.jupyter.widget-view+json": {
       "model_id": "",
       "version_major": 2,
       "version_minor": 0
      },
      "text/plain": [
       "FloatProgress(value=0.0, bar_style='info', description='Progress:', layout=Layout(height='25px', width='50%'),…"
      ]
     },
     "metadata": {},
     "output_type": "display_data"
    },
    {
     "name": "stdout",
     "output_type": "stream",
     "text": [
      "Row(num=0)"
     ]
    }
   ],
   "source": [
    "#Additional check: We make sure that the user doesn't any actions since left the service\n",
    "spark.sql('SELECT count(*) as num \\\n",
    "          FROM events as e \\\n",
    "          WHERE ts > \\\n",
    "          (SELECT max(e2.ts) FROM events as e2 \\\n",
    "          WHERE e2.userId = e.userId AND page = \\'Cancellation Confirmation\\'\\\n",
    "          ) ').head()"
   ]
  },
  {
   "cell_type": "code",
   "execution_count": 23,
   "metadata": {},
   "outputs": [
    {
     "data": {
      "application/vnd.jupyter.widget-view+json": {
       "model_id": "fa0782acda9045b08e81b404f000385f",
       "version_major": 2,
       "version_minor": 0
      },
      "text/plain": [
       "VBox()"
      ]
     },
     "metadata": {},
     "output_type": "display_data"
    },
    {
     "data": {
      "application/vnd.jupyter.widget-view+json": {
       "model_id": "",
       "version_major": 2,
       "version_minor": 0
      },
      "text/plain": [
       "FloatProgress(value=0.0, bar_style='info', description='Progress:', layout=Layout(height='25px', width='50%'),…"
      ]
     },
     "metadata": {},
     "output_type": "display_data"
    },
    {
     "name": "stdout",
     "output_type": "stream",
     "text": [
      "+-------+-------------------+-------------------+\n",
      "| userId|              churn|           reg_date|\n",
      "+-------+-------------------+-------------------+\n",
      "|1883991|2018-11-08 18:05:22|2018-09-30 20:09:20|\n",
      "|1675930|2018-10-22 02:52:40|2018-09-03 15:00:43|\n",
      "|1720899|2018-10-12 08:13:57|2018-09-08 21:07:09|\n",
      "|1008404|2018-11-09 11:04:20|2018-07-21 03:14:00|\n",
      "|1627452|2018-10-22 06:44:18|2018-08-26 21:53:22|\n",
      "|1205653|2018-11-11 03:30:41|2018-08-10 00:53:01|\n",
      "|1524082|2018-10-17 10:22:01|2018-08-20 10:04:06|\n",
      "|1931889|2018-11-23 03:25:50|2018-09-08 18:44:27|\n",
      "|1241210|2018-10-15 06:04:56|2018-09-04 20:56:19|\n",
      "|1904924|2018-11-18 09:22:20|2018-09-21 16:01:30|\n",
      "|1721727|2018-11-28 15:12:09|2018-06-22 10:54:26|\n",
      "|1637236|2018-11-23 19:28:56|2018-08-11 15:32:04|\n",
      "|1577579|2018-11-13 16:57:54|2018-08-19 00:23:34|\n",
      "|1951516|2018-11-14 21:39:07|2018-08-07 19:04:48|\n",
      "|1807588|2018-11-27 14:09:37|2018-07-18 16:22:28|\n",
      "|1534570|2018-10-10 20:38:59|2018-09-26 09:12:10|\n",
      "|1977419|2018-10-15 17:32:22|2018-09-23 18:18:17|\n",
      "|1814892|2018-10-23 23:00:20|2018-06-19 15:03:03|\n",
      "|1182149|2018-11-29 23:03:20|2018-09-19 02:47:49|\n",
      "|1403675|2018-10-09 15:52:41|2018-09-23 10:06:50|\n",
      "+-------+-------------------+-------------------+\n",
      "only showing top 20 rows"
     ]
    }
   ],
   "source": [
    "action_churn_users_last_year.select(['userId','churn','reg_date']).dropDuplicates().show()"
   ]
  },
  {
   "cell_type": "markdown",
   "metadata": {},
   "source": [
    "We aggregate the data to understand how many days there are between registration and the cancellation."
   ]
  },
  {
   "cell_type": "code",
   "execution_count": 24,
   "metadata": {},
   "outputs": [
    {
     "data": {
      "application/vnd.jupyter.widget-view+json": {
       "model_id": "1165628d0fc04e7ca59892140155263a",
       "version_major": 2,
       "version_minor": 0
      },
      "text/plain": [
       "VBox()"
      ]
     },
     "metadata": {},
     "output_type": "display_data"
    },
    {
     "data": {
      "application/vnd.jupyter.widget-view+json": {
       "model_id": "",
       "version_major": 2,
       "version_minor": 0
      },
      "text/plain": [
       "FloatProgress(value=0.0, bar_style='info', description='Progress:', layout=Layout(height='25px', width='50%'),…"
      ]
     },
     "metadata": {},
     "output_type": "display_data"
    }
   ],
   "source": [
    "action_churn_users_last_year.createOrReplaceTempView('before_churn_events')"
   ]
  },
  {
   "cell_type": "code",
   "execution_count": 25,
   "metadata": {},
   "outputs": [
    {
     "data": {
      "application/vnd.jupyter.widget-view+json": {
       "model_id": "a00163118c474b238bcb65db1b35e819",
       "version_major": 2,
       "version_minor": 0
      },
      "text/plain": [
       "VBox()"
      ]
     },
     "metadata": {},
     "output_type": "display_data"
    },
    {
     "data": {
      "application/vnd.jupyter.widget-view+json": {
       "model_id": "",
       "version_major": 2,
       "version_minor": 0
      },
      "text/plain": [
       "FloatProgress(value=0.0, bar_style='info', description='Progress:', layout=Layout(height='25px', width='50%'),…"
      ]
     },
     "metadata": {},
     "output_type": "display_data"
    }
   ],
   "source": [
    "tmp = spark.sql('SELECT ROUND(datediff(churn, reg_date)) as n_days, \\\n",
    "          userId \\\n",
    "          FROM before_churn_events as e \\\n",
    "          GROUP BY userId,n_days \\\n",
    "          ').toPandas()"
   ]
  },
  {
   "cell_type": "code",
   "execution_count": 26,
   "metadata": {},
   "outputs": [
    {
     "data": {
      "application/vnd.jupyter.widget-view+json": {
       "model_id": "b1bb3f03282b4930beae613f0b80dac1",
       "version_major": 2,
       "version_minor": 0
      },
      "text/plain": [
       "VBox()"
      ]
     },
     "metadata": {},
     "output_type": "display_data"
    },
    {
     "data": {
      "application/vnd.jupyter.widget-view+json": {
       "model_id": "",
       "version_major": 2,
       "version_minor": 0
      },
      "text/plain": [
       "FloatProgress(value=0.0, bar_style='info', description='Progress:', layout=Layout(height='25px', width='50%'),…"
      ]
     },
     "metadata": {},
     "output_type": "display_data"
    },
    {
     "data": {
      "image/png": "[encoded data removed]",
      "text/plain": [
       "<IPython.core.display.Image object>"
      ]
     },
     "metadata": {},
     "output_type": "display_data"
    }
   ],
   "source": [
    "sb.distplot(tmp.n_days) #Distribution plot\n",
    "%matplot plt"
   ]
  },
  {
   "cell_type": "code",
   "execution_count": 27,
   "metadata": {},
   "outputs": [
    {
     "data": {
      "application/vnd.jupyter.widget-view+json": {
       "model_id": "bb976dcb645c4c609c863a12f399bfa2",
       "version_major": 2,
       "version_minor": 0
      },
      "text/plain": [
       "VBox()"
      ]
     },
     "metadata": {},
     "output_type": "display_data"
    },
    {
     "data": {
      "application/vnd.jupyter.widget-view+json": {
       "model_id": "",
       "version_major": 2,
       "version_minor": 0
      },
      "text/plain": [
       "FloatProgress(value=0.0, bar_style='info', description='Progress:', layout=Layout(height='25px', width='50%'),…"
      ]
     },
     "metadata": {},
     "output_type": "display_data"
    },
    {
     "name": "stdout",
     "output_type": "stream",
     "text": [
      "(63.680391764941035, 41.281365394508136)"
     ]
    }
   ],
   "source": [
    "tmp.n_days.mean(), tmp.n_days.std()"
   ]
  },
  {
   "cell_type": "markdown",
   "metadata": {},
   "source": [
    "We can observe that most cancellations occur in the first 250 days from registration."
   ]
  },
  {
   "cell_type": "markdown",
   "metadata": {},
   "source": [
    "## Prepare data"
   ]
  },
  {
   "cell_type": "markdown",
   "metadata": {},
   "source": [
    "Before preparing the data, we need to consider two aspects. The first is that we can evaluate only the 250 days since the registration date. The second is that there are many user agents and songs. It could lead to an overfitting problem because each user may be mapped in specific user agents and songs pattern."
   ]
  },
  {
   "cell_type": "code",
   "execution_count": 28,
   "metadata": {},
   "outputs": [
    {
     "data": {
      "application/vnd.jupyter.widget-view+json": {
       "model_id": "4edfc03ecd6c479d8b75e045a30b4550",
       "version_major": 2,
       "version_minor": 0
      },
      "text/plain": [
       "VBox()"
      ]
     },
     "metadata": {},
     "output_type": "display_data"
    },
    {
     "data": {
      "application/vnd.jupyter.widget-view+json": {
       "model_id": "",
       "version_major": 2,
       "version_minor": 0
      },
      "text/plain": [
       "FloatProgress(value=0.0, bar_style='info', description='Progress:', layout=Layout(height='25px', width='50%'),…"
      ]
     },
     "metadata": {},
     "output_type": "display_data"
    }
   ],
   "source": [
    "spark.catalog.clearCache()\n",
    "df.dropna(subset=['registration']).createOrReplaceTempView('events') #Drop NA values of registration"
   ]
  },
  {
   "cell_type": "code",
   "execution_count": 29,
   "metadata": {},
   "outputs": [
    {
     "data": {
      "application/vnd.jupyter.widget-view+json": {
       "model_id": "917f8f086e7b475bb006b727b7a9c193",
       "version_major": 2,
       "version_minor": 0
      },
      "text/plain": [
       "VBox()"
      ]
     },
     "metadata": {},
     "output_type": "display_data"
    },
    {
     "data": {
      "application/vnd.jupyter.widget-view+json": {
       "model_id": "",
       "version_major": 2,
       "version_minor": 0
      },
      "text/plain": [
       "FloatProgress(value=0.0, bar_style='info', description='Progress:', layout=Layout(height='25px', width='50%'),…"
      ]
     },
     "metadata": {},
     "output_type": "display_data"
    }
   ],
   "source": [
    "#Create a dataframe that contains user actions since the 150 days from registration date \n",
    "user_first_250days = spark.sql(\"\"\"\n",
    "        SELECT *, \n",
    "          from_unixtime(e.ts DIV 1000) as ev_date, \n",
    "          from_unixtime(e.registration DIV 1000) as reg_date, \n",
    "          (CASE WHEN datediff(from_unixtime(e.ts DIV 1000),from_unixtime(e.registration DIV 1000)) > 0 THEN datediff(from_unixtime(e.ts DIV 1000),from_unixtime(e.registration DIV 1000)) ELSE 0 END)\n",
    "           as n_days, \n",
    "          (SELECT COUNT(*) from events as e2 where e2.userId = e.userId AND e2.page = \\'Cancellation Confirmation\\') as is_churn \n",
    "          FROM events as e \n",
    "          WHERE from_unixtime(ts DIV 1000) < \n",
    "          (SELECT date_add(from_unixtime(max(e2.registration) DIV 1000), 150) FROM events as e2 \n",
    "          WHERE e2.userId = e.userId)\n",
    "          \"\"\") "
   ]
  },
  {
   "cell_type": "code",
   "execution_count": 30,
   "metadata": {},
   "outputs": [
    {
     "data": {
      "application/vnd.jupyter.widget-view+json": {
       "model_id": "572b9818ec874dc1a95ad818e55d28ae",
       "version_major": 2,
       "version_minor": 0
      },
      "text/plain": [
       "VBox()"
      ]
     },
     "metadata": {},
     "output_type": "display_data"
    },
    {
     "data": {
      "application/vnd.jupyter.widget-view+json": {
       "model_id": "",
       "version_major": 2,
       "version_minor": 0
      },
      "text/plain": [
       "FloatProgress(value=0.0, bar_style='info', description='Progress:', layout=Layout(height='25px', width='50%'),…"
      ]
     },
     "metadata": {},
     "output_type": "display_data"
    }
   ],
   "source": [
    "#Map Useragent to a family browser \n",
    "udf_ua = udf(lambda x: parse(x).browser.family, StringType())"
   ]
  },
  {
   "cell_type": "code",
   "execution_count": 31,
   "metadata": {},
   "outputs": [
    {
     "data": {
      "application/vnd.jupyter.widget-view+json": {
       "model_id": "955d6dc34af743789629a65c008786e3",
       "version_major": 2,
       "version_minor": 0
      },
      "text/plain": [
       "VBox()"
      ]
     },
     "metadata": {},
     "output_type": "display_data"
    },
    {
     "data": {
      "application/vnd.jupyter.widget-view+json": {
       "model_id": "",
       "version_major": 2,
       "version_minor": 0
      },
      "text/plain": [
       "FloatProgress(value=0.0, bar_style='info', description='Progress:', layout=Layout(height='25px', width='50%'),…"
      ]
     },
     "metadata": {},
     "output_type": "display_data"
    }
   ],
   "source": [
    "user_first_250days.cache()\n",
    "pivot_page = user_first_250days.where('page <> \\'Cancellation Confirmation\\'').groupBy(['userId','is_churn','n_days']).pivot('page').count()\n",
    "pivot_level = user_first_250days.groupBy(['userId','is_churn','n_days']).pivot('level').count()\n",
    "pivot_gender = user_first_250days.groupBy(['userId','is_churn','n_days']).pivot('gender').count()\n",
    "pivot_method = user_first_250days.groupBy(['userId','is_churn','n_days']).pivot('method').count()\n",
    "pivot_status = user_first_250days.groupBy(['userId','is_churn','n_days']).pivot('status').count()\n",
    "pivot_user_agent = user_first_250days.withColumn('userAgentUA',udf_ua('userAgent')).groupBy(['userId','is_churn','n_days']).pivot('userAgentUA').count()\n",
    "pivot_auth = user_first_250days.groupBy(['userId','is_churn','n_days']).pivot('auth').count()"
   ]
  },
  {
   "cell_type": "code",
   "execution_count": 32,
   "metadata": {},
   "outputs": [
    {
     "data": {
      "application/vnd.jupyter.widget-view+json": {
       "model_id": "b44a6d3959a44b6b9719e23c1820197c",
       "version_major": 2,
       "version_minor": 0
      },
      "text/plain": [
       "VBox()"
      ]
     },
     "metadata": {},
     "output_type": "display_data"
    },
    {
     "data": {
      "application/vnd.jupyter.widget-view+json": {
       "model_id": "",
       "version_major": 2,
       "version_minor": 0
      },
      "text/plain": [
       "FloatProgress(value=0.0, bar_style='info', description='Progress:', layout=Layout(height='25px', width='50%'),…"
      ]
     },
     "metadata": {},
     "output_type": "display_data"
    }
   ],
   "source": [
    "pivot = pivot_page.join(pivot_level,on=['userId','is_churn','n_days'],how='inner'). \\\n",
    "  join(pivot_method,on=['userId','is_churn','n_days'],how='inner'). \\\n",
    "  join(pivot_status,on=['userId','is_churn','n_days'],how='inner'). \\\n",
    "  join(pivot_gender,on=['userId','is_churn','n_days'],how='inner'). \\\n",
    "  join(pivot_user_agent,on=['userId','is_churn','n_days'],how='inner'). \\\n",
    "  join(pivot_auth,on=['userId','is_churn','n_days'],how='inner').fillna(0)"
   ]
  },
  {
   "cell_type": "code",
   "execution_count": 33,
   "metadata": {},
   "outputs": [
    {
     "data": {
      "application/vnd.jupyter.widget-view+json": {
       "model_id": "04895749c5bb4c5f988d6b8f995e83d8",
       "version_major": 2,
       "version_minor": 0
      },
      "text/plain": [
       "VBox()"
      ]
     },
     "metadata": {},
     "output_type": "display_data"
    },
    {
     "data": {
      "application/vnd.jupyter.widget-view+json": {
       "model_id": "",
       "version_major": 2,
       "version_minor": 0
      },
      "text/plain": [
       "FloatProgress(value=0.0, bar_style='info', description='Progress:', layout=Layout(height='25px', width='50%'),…"
      ]
     },
     "metadata": {},
     "output_type": "display_data"
    },
    {
     "name": "stdout",
     "output_type": "stream",
     "text": [
      "    userId  is_churn  n_days  ...  Safari  Cancelled  Logged In\n",
      "0  1000035         0      36  ...       0          0         18\n",
      "1  1000164         0      63  ...       0          0          5\n",
      "2  1000164         0      68  ...       0          0         69\n",
      "3  1000164         0     110  ...       0          0         38\n",
      "4  1000280         1      34  ...       0          0         37\n",
      "\n",
      "[5 rows x 39 columns]"
     ]
    }
   ],
   "source": [
    "pivot.limit(5).toPandas()"
   ]
  },
  {
   "cell_type": "markdown",
   "metadata": {},
   "source": [
    "Each row aggregates the interactions done by the user for each day since the registration date. It's present the boolean column is_churn that describes if the user will leave the service."
   ]
  },
  {
   "cell_type": "markdown",
   "metadata": {},
   "source": [
    "## Data modeling (analyze and model)"
   ]
  },
  {
   "cell_type": "markdown",
   "metadata": {},
   "source": [
    "The model should predict for each day if the user is a \"churn user\" or not. We aspect that the majority of actions haven't significant differences between \"churn user\" and active user. It probably influences predictions by increasing false positives or false negatives. To better define this circumstance, we create two models, one based on the Naive Bayes Classifier, and the other based on Logic Regression."
   ]
  },
  {
   "cell_type": "code",
   "execution_count": 34,
   "metadata": {},
   "outputs": [
    {
     "data": {
      "application/vnd.jupyter.widget-view+json": {
       "model_id": "01e7c0ef2ff34cb1b3cd1307b6859ad5",
       "version_major": 2,
       "version_minor": 0
      },
      "text/plain": [
       "VBox()"
      ]
     },
     "metadata": {},
     "output_type": "display_data"
    },
    {
     "data": {
      "application/vnd.jupyter.widget-view+json": {
       "model_id": "",
       "version_major": 2,
       "version_minor": 0
      },
      "text/plain": [
       "FloatProgress(value=0.0, bar_style='info', description='Progress:', layout=Layout(height='25px', width='50%'),…"
      ]
     },
     "metadata": {},
     "output_type": "display_data"
    }
   ],
   "source": [
    "cols = pivot.columns\n",
    "cols.remove('is_churn')\n",
    "cols.remove('userId')\n",
    "assembler = VectorAssembler(inputCols=cols, outputCol=\"features\")\n",
    "bayes =  NaiveBayes(modelType=\"multinomial\")\n",
    "lr = LogisticRegression()\n",
    "bayes_stages = [assembler, bayes]\n",
    "lr_stages = [assembler, lr]\n",
    "pivot = pivot.withColumnRenamed(\"is_churn\",\"label\")"
   ]
  },
  {
   "cell_type": "markdown",
   "metadata": {},
   "source": [
    "The random split of the dataset is based on userId to prevent that user data is partial inside the train or test dataset."
   ]
  },
  {
   "cell_type": "code",
   "execution_count": 35,
   "metadata": {},
   "outputs": [
    {
     "data": {
      "application/vnd.jupyter.widget-view+json": {
       "model_id": "9c69e1b9b75d4a97bcd124514b7aa954",
       "version_major": 2,
       "version_minor": 0
      },
      "text/plain": [
       "VBox()"
      ]
     },
     "metadata": {},
     "output_type": "display_data"
    },
    {
     "data": {
      "application/vnd.jupyter.widget-view+json": {
       "model_id": "",
       "version_major": 2,
       "version_minor": 0
      },
      "text/plain": [
       "FloatProgress(value=0.0, bar_style='info', description='Progress:', layout=Layout(height='25px', width='50%'),…"
      ]
     },
     "metadata": {},
     "output_type": "display_data"
    }
   ],
   "source": [
    "trainUserIds, testUserIds = pivot.select('userId').dropDuplicates().randomSplit([0.7, 0.3], seed = 1234)"
   ]
  },
  {
   "cell_type": "code",
   "execution_count": 36,
   "metadata": {},
   "outputs": [
    {
     "data": {
      "application/vnd.jupyter.widget-view+json": {
       "model_id": "2b50462272304e79b2f0d9cca02346c7",
       "version_major": 2,
       "version_minor": 0
      },
      "text/plain": [
       "VBox()"
      ]
     },
     "metadata": {},
     "output_type": "display_data"
    },
    {
     "data": {
      "application/vnd.jupyter.widget-view+json": {
       "model_id": "",
       "version_major": 2,
       "version_minor": 0
      },
      "text/plain": [
       "FloatProgress(value=0.0, bar_style='info', description='Progress:', layout=Layout(height='25px', width='50%'),…"
      ]
     },
     "metadata": {},
     "output_type": "display_data"
    }
   ],
   "source": [
    "train = pivot.filter(pivot.userId.isin(trainUserIds.userId))\n",
    "test = pivot.filter(pivot.userId.isin(testUserIds.userId))"
   ]
  },
  {
   "cell_type": "code",
   "execution_count": 37,
   "metadata": {},
   "outputs": [
    {
     "data": {
      "application/vnd.jupyter.widget-view+json": {
       "model_id": "9c92d06189354beb844491413fe055cb",
       "version_major": 2,
       "version_minor": 0
      },
      "text/plain": [
       "VBox()"
      ]
     },
     "metadata": {},
     "output_type": "display_data"
    },
    {
     "data": {
      "application/vnd.jupyter.widget-view+json": {
       "model_id": "",
       "version_major": 2,
       "version_minor": 0
      },
      "text/plain": [
       "FloatProgress(value=0.0, bar_style='info', description='Progress:', layout=Layout(height='25px', width='50%'),…"
      ]
     },
     "metadata": {},
     "output_type": "display_data"
    }
   ],
   "source": [
    "spark.catalog.clearCache()\n",
    "train.cache()\n",
    "test.cache()\n",
    "\n",
    "bayes_pipeline = Pipeline(stages = bayes_stages)\n",
    "lr_pipeline = Pipeline(stages = lr_stages)\n",
    "\n",
    "bayes_paramGrid = ParamGridBuilder()\\\n",
    "    .addGrid(bayes.smoothing, [0.25, 1.0])\\\n",
    "    .build()\n",
    "lr_paramGrid = ParamGridBuilder()\\\n",
    "    .addGrid(lr.maxIter,[100, 500])\\\n",
    "    .build()\n",
    "\n",
    "bayes_crossval = CrossValidator(estimator=bayes_pipeline,\n",
    "                          estimatorParamMaps=bayes_paramGrid,\n",
    "                          evaluator=BinaryClassificationEvaluator())\n",
    "\n",
    "lr_crossval = CrossValidator(estimator=lr_pipeline,\n",
    "                          estimatorParamMaps=lr_paramGrid,\n",
    "                          evaluator=BinaryClassificationEvaluator())"
   ]
  },
  {
   "cell_type": "code",
   "execution_count": 38,
   "metadata": {},
   "outputs": [
    {
     "data": {
      "application/vnd.jupyter.widget-view+json": {
       "model_id": "3813ab86bbed4b16b17a1f06f1110e6c",
       "version_major": 2,
       "version_minor": 0
      },
      "text/plain": [
       "VBox()"
      ]
     },
     "metadata": {},
     "output_type": "display_data"
    },
    {
     "data": {
      "application/vnd.jupyter.widget-view+json": {
       "model_id": "",
       "version_major": 2,
       "version_minor": 0
      },
      "text/plain": [
       "FloatProgress(value=0.0, bar_style='info', description='Progress:', layout=Layout(height='25px', width='50%'),…"
      ]
     },
     "metadata": {},
     "output_type": "display_data"
    }
   ],
   "source": [
    "bayes_cvModel = bayes_crossval.fit(train)\n",
    "bayes_predictions = bayes_cvModel.transform(test)"
   ]
  },
  {
   "cell_type": "code",
   "execution_count": 39,
   "metadata": {
    "scrolled": true
   },
   "outputs": [
    {
     "data": {
      "application/vnd.jupyter.widget-view+json": {
       "model_id": "fe9ae2c01070479a8b328bf9aa22aeed",
       "version_major": 2,
       "version_minor": 0
      },
      "text/plain": [
       "VBox()"
      ]
     },
     "metadata": {},
     "output_type": "display_data"
    },
    {
     "data": {
      "application/vnd.jupyter.widget-view+json": {
       "model_id": "",
       "version_major": 2,
       "version_minor": 0
      },
      "text/plain": [
       "FloatProgress(value=0.0, bar_style='info', description='Progress:', layout=Layout(height='25px', width='50%'),…"
      ]
     },
     "metadata": {},
     "output_type": "display_data"
    },
    {
     "name": "stderr",
     "output_type": "stream",
     "text": [
      "Exception in thread cell_monitor-38:\n",
      "Traceback (most recent call last):\n",
      "  File \"/opt/conda/lib/python3.7/threading.py\", line 926, in _bootstrap_inner\n",
      "    self.run()\n",
      "  File \"/opt/conda/lib/python3.7/threading.py\", line 870, in run\n",
      "    self._target(*self._args, **self._kwargs)\n",
      "  File \"/opt/conda/lib/python3.7/site-packages/awseditorssparkmonitoringwidget-1.0-py3.7.egg/awseditorssparkmonitoringwidget/cellmonitor.py\", line 178, in cell_monitor\n",
      "    job_binned_stages[job_id][stage_id] = all_stages[stage_id]\n",
      "KeyError: 1053\n",
      "\n",
      "Exception in thread cell_monitor-39:\n",
      "Traceback (most recent call last):\n",
      "  File \"/opt/conda/lib/python3.7/threading.py\", line 926, in _bootstrap_inner\n",
      "    self.run()\n",
      "  File \"/opt/conda/lib/python3.7/threading.py\", line 870, in run\n",
      "    self._target(*self._args, **self._kwargs)\n",
      "  File \"/opt/conda/lib/python3.7/site-packages/awseditorssparkmonitoringwidget-1.0-py3.7.egg/awseditorssparkmonitoringwidget/cellmonitor.py\", line 178, in cell_monitor\n",
      "    job_binned_stages[job_id][stage_id] = all_stages[stage_id]\n",
      "KeyError: 5533\n",
      "\n"
     ]
    }
   ],
   "source": [
    "lr_cvModel = lr_crossval.fit(train)\n",
    "lr_predictions = lr_cvModel.transform(test)"
   ]
  },
  {
   "cell_type": "markdown",
   "metadata": {},
   "source": [
    "## Evaluate the Results"
   ]
  },
  {
   "cell_type": "markdown",
   "metadata": {},
   "source": [
    "We start to evaluate the two models using a standard way. We compare the F1 Score, Accuracy Score, Weighted Recall, and the ratio of predicted churn users over the number of churn users."
   ]
  },
  {
   "cell_type": "code",
   "execution_count": 40,
   "metadata": {
    "scrolled": true
   },
   "outputs": [
    {
     "data": {
      "application/vnd.jupyter.widget-view+json": {
       "model_id": "3f0e73e7e0c94ddb8849b815c04dea76",
       "version_major": 2,
       "version_minor": 0
      },
      "text/plain": [
       "VBox()"
      ]
     },
     "metadata": {},
     "output_type": "display_data"
    },
    {
     "data": {
      "application/vnd.jupyter.widget-view+json": {
       "model_id": "",
       "version_major": 2,
       "version_minor": 0
      },
      "text/plain": [
       "FloatProgress(value=0.0, bar_style='info', description='Progress:', layout=Layout(height='25px', width='50%'),…"
      ]
     },
     "metadata": {},
     "output_type": "display_data"
    }
   ],
   "source": [
    "def print_model_evaluation(predictions):\n",
    "    \"\"\"\n",
    "    This function prints F1 score, Accuracy score, weighted recall score, \n",
    "    and the ratio of predicted churn users over the number of churn users. \n",
    "    params:\n",
    "        predictions - (Dataframe) the predicted values\n",
    "    \n",
    "    \"\"\"\n",
    "    evaluator =  MulticlassClassificationEvaluator()\n",
    "    #Print F1 Score, Accuracy and weighted recall\n",
    "    print('F1 Score = ' + str(evaluator.evaluate(predictions, {evaluator.metricName: \"f1\"})))\n",
    "    print('Accuracy Score = ' + str(evaluator.evaluate(predictions, {evaluator.metricName: \"accuracy\"})))\n",
    "    print('Weighted Recall = ' + str(evaluator.evaluate(predictions, {evaluator.metricName: \"weightedRecall\"})))\n",
    "\n",
    "    #print the ratio of cancelled account predicted\n",
    "    correct_1 = (predictions.where('label = 1').where(predictions.where('label = 1').prediction == predictions.where('label = 1').label).select('userId').dropDuplicates().count())\n",
    "    total_1 = predictions.where('label = 1').select('userId').dropDuplicates().count()\n",
    "    print(\"Total churn users: \" + str(total_1))\n",
    "    print(\"Number predicted churn users: \" + str(correct_1))\n",
    "    print(\"Ratio: \" + str(correct_1/total_1))"
   ]
  },
  {
   "cell_type": "code",
   "execution_count": 41,
   "metadata": {},
   "outputs": [
    {
     "data": {
      "application/vnd.jupyter.widget-view+json": {
       "model_id": "c8c3477bda244a4c81481e7636dd24f7",
       "version_major": 2,
       "version_minor": 0
      },
      "text/plain": [
       "VBox()"
      ]
     },
     "metadata": {},
     "output_type": "display_data"
    },
    {
     "data": {
      "application/vnd.jupyter.widget-view+json": {
       "model_id": "",
       "version_major": 2,
       "version_minor": 0
      },
      "text/plain": [
       "FloatProgress(value=0.0, bar_style='info', description='Progress:', layout=Layout(height='25px', width='50%'),…"
      ]
     },
     "metadata": {},
     "output_type": "display_data"
    },
    {
     "name": "stderr",
     "output_type": "stream",
     "text": [
      "Exception in thread cell_monitor-41:\n",
      "Traceback (most recent call last):\n",
      "  File \"/opt/conda/lib/python3.7/threading.py\", line 926, in _bootstrap_inner\n",
      "    self.run()\n",
      "  File \"/opt/conda/lib/python3.7/threading.py\", line 870, in run\n",
      "    self._target(*self._args, **self._kwargs)\n",
      "  File \"/opt/conda/lib/python3.7/site-packages/awseditorssparkmonitoringwidget-1.0-py3.7.egg/awseditorssparkmonitoringwidget/cellmonitor.py\", line 178, in cell_monitor\n",
      "    job_binned_stages[job_id][stage_id] = all_stages[stage_id]\n",
      "KeyError: 12262\n",
      "\n"
     ]
    },
    {
     "name": "stdout",
     "output_type": "stream",
     "text": [
      "Naive Bayes: \n",
      "F1 Score = 0.6763166451101013\n",
      "Accuracy Score = 0.644754635759245\n",
      "Weighted Recall = 0.644754635759245\n",
      "Total churn users: 4901\n",
      "Number predicted churn users: 4553\n",
      "Ratio: 0.9289940828402367\n",
      "(None, None)"
     ]
    }
   ],
   "source": [
    "print(\"Naive Bayes: \"), print_model_evaluation(bayes_predictions)"
   ]
  },
  {
   "cell_type": "code",
   "execution_count": 42,
   "metadata": {},
   "outputs": [
    {
     "data": {
      "application/vnd.jupyter.widget-view+json": {
       "model_id": "c3b39e55bd3f43848ee08949f198ebb8",
       "version_major": 2,
       "version_minor": 0
      },
      "text/plain": [
       "VBox()"
      ]
     },
     "metadata": {},
     "output_type": "display_data"
    },
    {
     "data": {
      "application/vnd.jupyter.widget-view+json": {
       "model_id": "",
       "version_major": 2,
       "version_minor": 0
      },
      "text/plain": [
       "FloatProgress(value=0.0, bar_style='info', description='Progress:', layout=Layout(height='25px', width='50%'),…"
      ]
     },
     "metadata": {},
     "output_type": "display_data"
    },
    {
     "name": "stdout",
     "output_type": "stream",
     "text": [
      "Logistic Regression: \n",
      "F1 Score = 0.7604781055264619\n",
      "Accuracy Score = 0.8235508605979934\n",
      "Weighted Recall = 0.8235508605979934\n",
      "Total churn users: 4901\n",
      "Number predicted churn users: 4793\n",
      "Ratio: 0.9779636808814528\n",
      "(None, None)"
     ]
    }
   ],
   "source": [
    "print(\"Logistic Regression: \"), print_model_evaluation(lr_predictions)"
   ]
  },
  {
   "cell_type": "markdown",
   "metadata": {},
   "source": [
    "We observe that the logistic regression model has better result respect the Naive Bayes model.\n",
    "With these models, we can predict for each day if the user will leave the service. Before the user cancellation, we can predict it.\n",
    "If every day we have the aggregate data for the activity of the user like the dataset, we can apply the model and understand the his intention.\n",
    "We can arbitrarily define that with only one predicted value equals to 1, we consider him as a potential churn user.\n",
    "If we use only the first value, the probability of a false positive can be high. We can reduce it by considering more predictions instead of only one."
   ]
  },
  {
   "cell_type": "code",
   "execution_count": 43,
   "metadata": {},
   "outputs": [
    {
     "data": {
      "application/vnd.jupyter.widget-view+json": {
       "model_id": "91209f3de8da44b984489ac9555c5bc4",
       "version_major": 2,
       "version_minor": 0
      },
      "text/plain": [
       "VBox()"
      ]
     },
     "metadata": {},
     "output_type": "display_data"
    },
    {
     "data": {
      "application/vnd.jupyter.widget-view+json": {
       "model_id": "",
       "version_major": 2,
       "version_minor": 0
      },
      "text/plain": [
       "FloatProgress(value=0.0, bar_style='info', description='Progress:', layout=Layout(height='25px', width='50%'),…"
      ]
     },
     "metadata": {},
     "output_type": "display_data"
    }
   ],
   "source": [
    "def print_strategy(predictions, n=1):\n",
    "    \"\"\"\n",
    "    This functions prints  two indicators: \n",
    "    * the ratio of predicted churn users considering the 50%, 70%, 80%, 90%, 99% of days of the duration of account. \n",
    "    * the ratio of false positive considering the 50%, 70%, 80%, 90%, 99% of days of the duration of account.\n",
    "    \n",
    "    params:\n",
    "        predictions - (Dataframe) the predicitons\n",
    "        n - the number of true values before consider the user as \"churn user\"\n",
    "    \"\"\"\n",
    "    aggregated_predictions = predictions.groupBy('userId','prediction','label').agg(func.count('*').alias(\"Num Of Records\")).select('userId','prediction','label')\n",
    "    predictions.createOrReplaceTempView(\"predictions\")\n",
    "    total = predictions.where('label = 1').select('userId').dropDuplicates().count()\n",
    "    for perc in [0.5, 0.7, 0.8, 0.9, 0.99]:\n",
    "        res = spark.sql(\"\"\"\n",
    "        SELECT userId,MAX(n_days)*{} AS days,SUM(prediction) as num_predicted\n",
    "        FROM predictions as p\n",
    "        WHERE label = 1 AND n_days <= (SELECT MAX(n_days)*{} FROM predictions as p2 where p2.userId = p.userId)\n",
    "        GROUP BY userId\n",
    "        HAVING num_predicted >= {}\n",
    "        \"\"\".format(perc, perc,n))\n",
    "        print(\"Counting at least \"+ str(n) + \" positive values at \" + str(perc*100) + \"% of live of account, it predicts the \"+ str(res.count()/total))\n",
    "    total = predictions.where('label = 0').select('userId').dropDuplicates().count()\n",
    "    for perc in [0.5 , 0.7, 0.8, 0.9, 0.99]:\n",
    "        res = spark.sql(\"\"\"\n",
    "        SELECT userId,MAX(n_days)*{} AS days,SUM(prediction) as num_predicted\n",
    "        FROM predictions as p\n",
    "        WHERE label = 0 AND n_days <= (SELECT MAX(n_days)*{} FROM predictions as p2 where p2.userId = p.userId)\n",
    "        GROUP BY userId\n",
    "        HAVING num_predicted >= {}\n",
    "        \"\"\".format(perc, perc, n))\n",
    "        print(\"Counting at least \"+ str(n) + \" positive values at \" + str(perc*100) + \"% of live of account, it predicts false positive \"+ str(res.count()/total))\n"
   ]
  },
  {
   "cell_type": "code",
   "execution_count": 44,
   "metadata": {},
   "outputs": [
    {
     "data": {
      "application/vnd.jupyter.widget-view+json": {
       "model_id": "1776aa39d59f4ba796a5734d9268552b",
       "version_major": 2,
       "version_minor": 0
      },
      "text/plain": [
       "VBox()"
      ]
     },
     "metadata": {},
     "output_type": "display_data"
    },
    {
     "data": {
      "application/vnd.jupyter.widget-view+json": {
       "model_id": "",
       "version_major": 2,
       "version_minor": 0
      },
      "text/plain": [
       "FloatProgress(value=0.0, bar_style='info', description='Progress:', layout=Layout(height='25px', width='50%'),…"
      ]
     },
     "metadata": {},
     "output_type": "display_data"
    },
    {
     "name": "stderr",
     "output_type": "stream",
     "text": [
      "Exception in thread cell_monitor-42:\n",
      "Traceback (most recent call last):\n",
      "  File \"/opt/conda/lib/python3.7/threading.py\", line 926, in _bootstrap_inner\n",
      "    self.run()\n",
      "  File \"/opt/conda/lib/python3.7/threading.py\", line 870, in run\n",
      "    self._target(*self._args, **self._kwargs)\n",
      "  File \"/opt/conda/lib/python3.7/site-packages/awseditorssparkmonitoringwidget-1.0-py3.7.egg/awseditorssparkmonitoringwidget/cellmonitor.py\", line 178, in cell_monitor\n",
      "    job_binned_stages[job_id][stage_id] = all_stages[stage_id]\n",
      "KeyError: 12770\n",
      "\n",
      "Exception in thread cell_monitor-44:\n",
      "Traceback (most recent call last):\n",
      "  File \"/opt/conda/lib/python3.7/threading.py\", line 926, in _bootstrap_inner\n",
      "    self.run()\n",
      "  File \"/opt/conda/lib/python3.7/threading.py\", line 870, in run\n",
      "    self._target(*self._args, **self._kwargs)\n",
      "  File \"/opt/conda/lib/python3.7/site-packages/awseditorssparkmonitoringwidget-1.0-py3.7.egg/awseditorssparkmonitoringwidget/cellmonitor.py\", line 178, in cell_monitor\n",
      "    job_binned_stages[job_id][stage_id] = all_stages[stage_id]\n",
      "KeyError: 13365\n",
      "\n"
     ]
    },
    {
     "name": "stdout",
     "output_type": "stream",
     "text": [
      "Naive Bayes: \n",
      "Counting at least 1 positive values at 50.0% of live of account, it predicts the 0.34931646602734134\n",
      "Counting at least 1 positive values at 70.0% of live of account, it predicts the 0.5164252193429912\n",
      "Counting at least 1 positive values at 80.0% of live of account, it predicts the 0.6000816159967354\n",
      "Counting at least 1 positive values at 90.0% of live of account, it predicts the 0.6768006529279739\n",
      "Counting at least 1 positive values at 99.0% of live of account, it predicts the 0.7500510099979596\n",
      "Counting at least 1 positive values at 50.0% of live of account, it predicts false positive 0.48690511380431567\n",
      "Counting at least 1 positive values at 70.0% of live of account, it predicts false positive 0.6310966597694354\n",
      "Counting at least 1 positive values at 80.0% of live of account, it predicts false positive 0.6671002069169376\n",
      "Counting at least 1 positive values at 90.0% of live of account, it predicts false positive 0.6937629323086019\n",
      "Counting at least 1 positive values at 99.0% of live of account, it predicts false positive 0.7142181495713863\n",
      "Naive Bayes: \n",
      "Counting at least 2 positive values at 50.0% of live of account, it predicts the 0.2501530299938788\n",
      "Counting at least 2 positive values at 70.0% of live of account, it predicts the 0.39359314425627423\n",
      "Counting at least 2 positive values at 80.0% of live of account, it predicts the 0.46806774127729034\n",
      "Counting at least 2 positive values at 90.0% of live of account, it predicts the 0.5339726586410937\n",
      "Counting at least 2 positive values at 99.0% of live of account, it predicts the 0.5974290961028361\n",
      "Counting at least 2 positive values at 50.0% of live of account, it predicts false positive 0.33490984333431867\n",
      "Counting at least 2 positive values at 70.0% of live of account, it predicts false positive 0.46071534141294707\n",
      "Counting at least 2 positive values at 80.0% of live of account, it predicts false positive 0.5003251551877033\n",
      "Counting at least 2 positive values at 90.0% of live of account, it predicts false positive 0.5294117647058824\n",
      "Counting at least 2 positive values at 99.0% of live of account, it predicts false positive 0.5538279633461425\n",
      "Naive Bayes: \n",
      "Counting at least 3 positive values at 50.0% of live of account, it predicts the 0.1834319526627219\n",
      "Counting at least 3 positive values at 70.0% of live of account, it predicts the 0.3076923076923077\n",
      "Counting at least 3 positive values at 80.0% of live of account, it predicts the 0.3717608651295654\n",
      "Counting at least 3 positive values at 90.0% of live of account, it predicts the 0.4284839828606407\n",
      "Counting at least 3 positive values at 99.0% of live of account, it predicts the 0.4894919404203224\n",
      "Counting at least 3 positive values at 50.0% of live of account, it predicts false positive 0.23570795152231747\n",
      "Counting at least 3 positive values at 70.0% of live of account, it predicts false positive 0.3452556902157848\n",
      "Counting at least 3 positive values at 80.0% of live of account, it predicts false positive 0.38368312148980194\n",
      "Counting at least 3 positive values at 90.0% of live of account, it predicts false positive 0.4150753768844221\n",
      "Counting at least 3 positive values at 99.0% of live of account, it predicts false positive 0.4402601241501626\n",
      "(None, None)"
     ]
    }
   ],
   "source": [
    "print(\"Naive Bayes: \"), print_strategy(bayes_predictions, 1)\n",
    "print(\"Naive Bayes: \"), print_strategy(bayes_predictions, 2)\n",
    "print(\"Naive Bayes: \"), print_strategy(bayes_predictions, 3)"
   ]
  },
  {
   "cell_type": "code",
   "execution_count": 45,
   "metadata": {},
   "outputs": [
    {
     "data": {
      "application/vnd.jupyter.widget-view+json": {
       "model_id": "15f2bfcaf80245cfafd603af54454932",
       "version_major": 2,
       "version_minor": 0
      },
      "text/plain": [
       "VBox()"
      ]
     },
     "metadata": {},
     "output_type": "display_data"
    },
    {
     "data": {
      "application/vnd.jupyter.widget-view+json": {
       "model_id": "",
       "version_major": 2,
       "version_minor": 0
      },
      "text/plain": [
       "FloatProgress(value=0.0, bar_style='info', description='Progress:', layout=Layout(height='25px', width='50%'),…"
      ]
     },
     "metadata": {},
     "output_type": "display_data"
    },
    {
     "name": "stderr",
     "output_type": "stream",
     "text": [
      "Exception in thread cell_monitor-45:\n",
      "Traceback (most recent call last):\n",
      "  File \"/opt/conda/lib/python3.7/threading.py\", line 926, in _bootstrap_inner\n",
      "    self.run()\n",
      "  File \"/opt/conda/lib/python3.7/threading.py\", line 870, in run\n",
      "    self._target(*self._args, **self._kwargs)\n",
      "  File \"/opt/conda/lib/python3.7/site-packages/awseditorssparkmonitoringwidget-1.0-py3.7.egg/awseditorssparkmonitoringwidget/cellmonitor.py\", line 178, in cell_monitor\n",
      "    job_binned_stages[job_id][stage_id] = all_stages[stage_id]\n",
      "KeyError: 16741\n",
      "\n"
     ]
    },
    {
     "name": "stdout",
     "output_type": "stream",
     "text": [
      "Logistic Regression: \n",
      "Counting at least 1 positive values at 50.0% of live of account, it predicts the 0.029993878800244848\n",
      "Counting at least 1 positive values at 70.0% of live of account, it predicts the 0.04998979800040808\n",
      "Counting at least 1 positive values at 80.0% of live of account, it predicts the 0.0612119975515201\n",
      "Counting at least 1 positive values at 90.0% of live of account, it predicts the 0.06937359722505611\n",
      "Counting at least 1 positive values at 99.0% of live of account, it predicts the 0.08182003672719854\n",
      "Counting at least 1 positive values at 50.0% of live of account, it predicts false positive 0.010050251256281407\n",
      "Counting at least 1 positive values at 70.0% of live of account, it predicts false positive 0.013715637008572272\n",
      "Counting at least 1 positive values at 80.0% of live of account, it predicts false positive 0.014898019509311262\n",
      "Counting at least 1 positive values at 90.0% of live of account, it predicts false positive 0.015725687259828553\n",
      "Counting at least 1 positive values at 99.0% of live of account, it predicts false positive 0.0164942358853089\n",
      "Logistic Regression: \n",
      "Counting at least 2 positive values at 50.0% of live of account, it predicts the 0.0071413997143440116\n",
      "Counting at least 2 positive values at 70.0% of live of account, it predicts the 0.011426239542950418\n",
      "Counting at least 2 positive values at 80.0% of live of account, it predicts the 0.013466639461334421\n",
      "Counting at least 2 positive values at 90.0% of live of account, it predicts the 0.01693531932258723\n",
      "Counting at least 2 positive values at 99.0% of live of account, it predicts the 0.01938379922464803\n",
      "Counting at least 2 positive values at 50.0% of live of account, it predicts false positive 0.0010641442506650902\n",
      "Counting at least 2 positive values at 70.0% of live of account, it predicts false positive 0.001418859000886787\n",
      "Counting at least 2 positive values at 80.0% of live of account, it predicts false positive 0.0017735737511084836\n",
      "Counting at least 2 positive values at 90.0% of live of account, it predicts false positive 0.0021874076263671298\n",
      "Counting at least 2 positive values at 99.0% of live of account, it predicts false positive 0.002246526751404079\n",
      "Logistic Regression: \n",
      "Counting at least 3 positive values at 50.0% of live of account, it predicts the 0.0022444399102224035\n",
      "Counting at least 3 positive values at 70.0% of live of account, it predicts the 0.003672719853091206\n",
      "Counting at least 3 positive values at 80.0% of live of account, it predicts the 0.004488879820444807\n",
      "Counting at least 3 positive values at 90.0% of live of account, it predicts the 0.005713119771475209\n",
      "Counting at least 3 positive values at 99.0% of live of account, it predicts the 0.005713119771475209\n",
      "Counting at least 3 positive values at 50.0% of live of account, it predicts false positive 0.0002364765001477978\n",
      "Counting at least 3 positive values at 70.0% of live of account, it predicts false positive 0.0002955956251847473\n",
      "Counting at least 3 positive values at 80.0% of live of account, it predicts false positive 0.0004729530002955956\n",
      "Counting at least 3 positive values at 90.0% of live of account, it predicts false positive 0.0004729530002955956\n",
      "Counting at least 3 positive values at 99.0% of live of account, it predicts false positive 0.0004729530002955956\n",
      "(None, None)"
     ]
    }
   ],
   "source": [
    "print(\"Logistic Regression: \"), print_strategy(lr_predictions, 1)\n",
    "print(\"Logistic Regression: \"), print_strategy(lr_predictions, 2)\n",
    "print(\"Logistic Regression: \"), print_strategy(lr_predictions, 3)"
   ]
  },
  {
   "cell_type": "markdown",
   "metadata": {},
   "source": [
    "In this case, the result depends on the importance of false positives.\n",
    "If we send an email to ask the churn user opinion on the service, the false positive may be irrelevant. Otherwise, if we offer a promotion to the user, the false-positive became important.\n",
    "It's to consider that these models are valid to detect the churn user in the first 250 days. A possible next step should be to explore the users that leave the service after the 250 days. "
   ]
  },
  {
   "cell_type": "code",
   "execution_count": 46,
   "metadata": {},
   "outputs": [
    {
     "data": {
      "application/vnd.jupyter.widget-view+json": {
       "model_id": "009edccfb0d34028af29ad36bb77eb23",
       "version_major": 2,
       "version_minor": 0
      },
      "text/plain": [
       "VBox()"
      ]
     },
     "metadata": {},
     "output_type": "display_data"
    },
    {
     "data": {
      "application/vnd.jupyter.widget-view+json": {
       "model_id": "",
       "version_major": 2,
       "version_minor": 0
      },
      "text/plain": [
       "FloatProgress(value=0.0, bar_style='info', description='Progress:', layout=Layout(height='25px', width='50%'),…"
      ]
     },
     "metadata": {},
     "output_type": "display_data"
    },
    {
     "name": "stdout",
     "output_type": "stream",
     "text": [
      "'/tmp/bayes.pmml'"
     ]
    }
   ],
   "source": [
    "#Export model to PMML\n",
    "pmmlBuilder = PMMLBuilder(spark, pivot, bayes_cvModel.bestModel).putOption(bayes, \"compact\", True)\n",
    "pmmlBuilder.buildFile(\"/tmp/bayes.pmml\") #The file is in the master node in /tmp/"
   ]
  },
  {
   "cell_type": "code",
   "execution_count": null,
   "metadata": {},
   "outputs": [],
   "source": []
  },
  {
   "cell_type": "code",
   "execution_count": 47,
   "metadata": {},
   "outputs": [
    {
     "data": {
      "application/vnd.jupyter.widget-view+json": {
       "model_id": "cbef908e157b49159300b0d0d814f7c7",
       "version_major": 2,
       "version_minor": 0
      },
      "text/plain": [
       "VBox()"
      ]
     },
     "metadata": {},
     "output_type": "display_data"
    },
    {
     "data": {
      "application/vnd.jupyter.widget-view+json": {
       "model_id": "",
       "version_major": 2,
       "version_minor": 0
      },
      "text/plain": [
       "FloatProgress(value=0.0, bar_style='info', description='Progress:', layout=Layout(height='25px', width='50%'),…"
      ]
     },
     "metadata": {},
     "output_type": "display_data"
    },
    {
     "name": "stdout",
     "output_type": "stream",
     "text": [
      "'/tmp/lr.pmml'"
     ]
    }
   ],
   "source": [
    "#Export model to PMML\n",
    "pmmlBuilder = PMMLBuilder(spark, pivot, lr_cvModel.bestModel).putOption(lr, \"compact\", True)\n",
    "pmmlBuilder.buildFile(\"/tmp/lr.pmml\") #The file is in the master node in /tmp/"
   ]
  },
  {
   "cell_type": "code",
   "execution_count": null,
   "metadata": {},
   "outputs": [],
   "source": []
  },
  {
   "cell_type": "code",
   "execution_count": null,
   "metadata": {},
   "outputs": [],
   "source": []
  }
 ],
 "metadata": {
  "kernelspec": {
   "display_name": "PySpark",
   "language": "",
   "name": "pysparkkernel"
  },
  "language_info": {
   "codemirror_mode": {
    "name": "python",
    "version": 2
   },
   "mimetype": "text/x-python",
   "name": "pyspark",
   "pygments_lexer": "python2"
  }
 },
 "nbformat": 4,
 "nbformat_minor": 4
}
